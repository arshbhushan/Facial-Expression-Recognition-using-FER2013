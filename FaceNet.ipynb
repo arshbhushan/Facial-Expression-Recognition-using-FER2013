{
 "nbformat": 4,
 "nbformat_minor": 0,
 "metadata": {
  "colab": {
   "provenance": [],
   "collapsed_sections": []
  },
  "kernelspec": {
   "name": "python3",
   "display_name": "Python 3"
  },
  "language_info": {
   "name": "python"
  },
  "accelerator": "GPU"
 },
 "cells": [
  {
   "cell_type": "code",
   "execution_count": null,
   "outputs": [],
   "source": [
    "import math\n",
    "import numpy as np\n",
    "import matplotlib.pyplot as plt\n",
    "\n",
    "from keras import backend\n",
    "from keras.models import Model\n",
    "from keras.optimizers import Adam\n",
    "from keras.layers import Input, Activation\n",
    "from keras.layers import Concatenate, Lambda\n",
    "from keras.layers import Dense, BatchNormalization, Dropout\n",
    "from keras.layers import Conv2D, GlobalAveragePooling2D, MaxPooling2D\n",
    "from keras.callbacks import ModelCheckpoint, LearningRateScheduler\n",
    "from keras.callbacks import ReduceLROnPlateau, CSVLogger\n",
    "from keras.preprocessing.image import ImageDataGenerator"
   ],
   "metadata": {
    "collapsed": false,
    "pycharm": {
     "name": "#%%\n"
    }
   }
  },
  {
   "cell_type": "markdown",
   "source": [
    "## Hyperparams"
   ],
   "metadata": {
    "collapsed": false,
    "pycharm": {
     "name": "#%% md\n"
    }
   }
  },
  {
   "cell_type": "code",
   "execution_count": null,
   "outputs": [],
   "source": [
    "SEED = 1\n",
    "np.random.seed(SEED)\n",
    "\n",
    "TRAIN_DATA_PERCENT = 80\n",
    "HEIGHT, WIDTH, CHANNELS = 48, 48, 1\n",
    "CLASSES = 7\n",
    "BATCH_SIZE = 64\n",
    "EPOCHS = 30\n",
    "AUGMENTATION = True\n",
    "\n",
    "# if true: learning rate will change based on lr_schedule(epoch) function\n",
    "# if false: learning rate will decay based on decay rate\n",
    "LR_SCHEDULE = False\n",
    "LR_INIT = 0.0001\n",
    "LR_DECAY = 1e-6\n",
    "\n",
    "# Learning rate scheduler to reduce Learning rate to obtain better accuracy.\n",
    "def lr_schedule(epoch):\n",
    "  \"\"\"\n",
    "  Learning Rate Schedule\n",
    "  Learning rate is scheduled to be reduced after 50, 70, 80, 90 epochs.\n",
    "  Called automatically every epoch as part of callbacks during training.\n",
    "\n",
    "  # Arguments\n",
    "    epoch (int): The number of epochs\n",
    "\n",
    "  # Returns\n",
    "    lr (float32): learning rate\n",
    "  \"\"\"\n",
    "  lr = 1e-3\n",
    "  if epoch > 90:\n",
    "      lr *= 1e-2\n",
    "  elif epoch > 60:\n",
    "      lr *= 5e-2\n",
    "  elif epoch > 30:\n",
    "      lr *= 1e-1\n",
    "  elif epoch > 5:\n",
    "      lr *= 3e-1\n",
    "  return lr\n",
    "\n",
    "lr_reducer_1 = ReduceLROnPlateau(\n",
    "  factor=np.sqrt(0.1),\n",
    "  cooldown=0,\n",
    "  patience=5,\n",
    "  min_lr=0.5e-6,\n",
    "  verbose=1\n",
    ")\n",
    "\n",
    "lr_reducer_2 = ReduceLROnPlateau(\n",
    "  monitor='val_loss',\n",
    "  factor=0.5,\n",
    "  patience=6,\n",
    "  min_delta=0.0001,\n",
    "  verbose=1\n",
    ")\n",
    "\n",
    "######## Do Not Change ########\n",
    "model_type = \"FaceNet\"\n",
    "checkpoint = ModelCheckpoint(\n",
    "  filepath=\"{}_model.h5\".format(model_type),\n",
    "  monitor='val_accuracy',\n",
    "  mode='max',\n",
    "  save_best_only=True,\n",
    "  verbose=1,\n",
    ")\n",
    "csv_logger = CSVLogger('training.log')\n",
    "\n",
    "if LR_SCHEDULE:\n",
    "  lr_scheduler = LearningRateScheduler(lr_schedule)\n",
    "  OPTIMIZER = Adam(learning_rate=lr_schedule(0))\n",
    "  callbacks = [checkpoint, csv_logger, lr_scheduler, lr_reducer_1]\n",
    "else:\n",
    "  OPTIMIZER = Adam(learning_rate=LR_INIT, decay=LR_DECAY)\n",
    "  callbacks = [checkpoint, csv_logger, lr_reducer_2]"
   ],
   "metadata": {
    "collapsed": false,
    "pycharm": {
     "name": "#%%\n"
    }
   }
  },
  {
   "cell_type": "markdown",
   "source": [
    "## Dataset"
   ],
   "metadata": {
    "collapsed": false,
    "pycharm": {
     "name": "#%% md\n"
    }
   }
  },
  {
   "cell_type": "code",
   "execution_count": null,
   "outputs": [],
   "source": [
    "!gdown 1t1GH1o5t9WgTE1ODB4QfpzhmuKImFY1w\n",
    "!gdown 1LldCqbvgwQSt2uBrU9L33Oq5SmnQxq_Z\n",
    "\n",
    "dataset_images = np.load('fer-2013-images.npy')\n",
    "dataset_labels = np.load('fer-2013-labels.npy')"
   ],
   "metadata": {
    "collapsed": false,
    "pycharm": {
     "name": "#%%\n"
    }
   }
  },
  {
   "cell_type": "code",
   "execution_count": null,
   "outputs": [],
   "source": [
    "# Create train and test data and labels\n",
    "train_data_count = math.floor(len(dataset_images) * TRAIN_DATA_PERCENT / 100)\n",
    "test_data_count = len(dataset_images) - train_data_count\n",
    "\n",
    "# Shuffle all data in dataset. \n",
    "indexes = np.arange(len(dataset_images))\n",
    "np.random.shuffle(indexes)\n",
    "dataset_images = dataset_images[indexes]\n",
    "dataset_labels = dataset_labels[indexes]\n",
    "\n",
    "# Split train and test data\n",
    "X_train = dataset_images[:train_data_count].astype('float32')\n",
    "Y_train = dataset_labels[:train_data_count]\n",
    "X_test = dataset_images[train_data_count:].astype('float32')\n",
    "Y_test = dataset_labels[train_data_count:]\n",
    "\n",
    "print(X_train.shape)\n",
    "print(Y_train.shape)\n",
    "print(X_test.shape)\n",
    "print(Y_test.shape)"
   ],
   "metadata": {
    "collapsed": false,
    "pycharm": {
     "name": "#%%\n"
    }
   }
  },
  {
   "cell_type": "code",
   "execution_count": null,
   "outputs": [],
   "source": [
    "index = 3\n",
    "fig, (ax1) = plt.subplots(1, 1)\n",
    "ax1.imshow(X_train[index].squeeze(axis=2))"
   ],
   "metadata": {
    "collapsed": false,
    "pycharm": {
     "name": "#%%\n"
    }
   }
  },
  {
   "cell_type": "code",
   "execution_count": null,
   "outputs": [],
   "source": [
    "## Train Data ##\n",
    "if not AUGMENTATION:\n",
    "  train_datagen = ImageDataGenerator(rescale=1./255)\n",
    "\n",
    "else:\n",
    "  train_datagen = ImageDataGenerator(\n",
    "    # set rescaling factor (applied before any other transformation)\n",
    "    rescale=1./255,\n",
    "    # set range for random zoom\n",
    "    zoom_range=0.3,\n",
    "    # randomly flip images\n",
    "    horizontal_flip=True,\n",
    "    # randomly flip images\n",
    "    vertical_flip=False,\n",
    "    # set input mean to 0 over the dataset\n",
    "    featurewise_center=False,\n",
    "    # set each sample mean to 0\n",
    "    samplewise_center=False,\n",
    "    # divide inputs by std of dataset\n",
    "    featurewise_std_normalization=False,\n",
    "    # divide each input by its std\n",
    "    samplewise_std_normalization=False,\n",
    "    # apply ZCA whitening\n",
    "    zca_whitening=False,\n",
    "    # epsilon for ZCA whitening\n",
    "    zca_epsilon=1e-06,\n",
    "    # randomly rotate images in the range (deg 0 to 180)\n",
    "    rotation_range=0,\n",
    "    # randomly shift images horizontally\n",
    "    width_shift_range=0.1,\n",
    "    # randomly shift images vertically\n",
    "    height_shift_range=0.1,\n",
    "    # set range for random shear\n",
    "    shear_range=0.,\n",
    "    # set range for random channel shifts\n",
    "    channel_shift_range=0.,\n",
    "    # set mode for filling points outside the input boundaries\n",
    "    fill_mode='nearest',\n",
    "    # value used for fill_mode = \"constant\"\n",
    "    cval=0.,\n",
    "    # set function that will be applied on each input\n",
    "    preprocessing_function=None,\n",
    "    # image data format, either \"channels_first\" or \"channels_last\"\n",
    "    data_format=None,\n",
    "    # fraction of images reserved for validation (strictly between 0 and 1)\n",
    "    validation_split=0.0\n",
    "  )\n",
    "\n",
    "train_set = train_datagen.flow(\n",
    "  x=X_train,\n",
    "  y=Y_train,\n",
    "  batch_size=BATCH_SIZE,\n",
    "  shuffle=True,\n",
    "  seed=SEED,\n",
    ")\n",
    "\n",
    "## Test Data ##\n",
    "test_datagen = ImageDataGenerator(rescale=1./255)\n",
    "test_set = test_datagen.flow(\n",
    "  x=X_test,\n",
    "  y=Y_test,\n",
    "  batch_size=BATCH_SIZE,\n",
    "  shuffle=True,\n",
    "  seed=SEED,\n",
    ")"
   ],
   "metadata": {
    "collapsed": false,
    "pycharm": {
     "name": "#%%\n"
    }
   }
  },
  {
   "cell_type": "markdown",
   "source": [
    "## Model"
   ],
   "metadata": {
    "collapsed": false,
    "pycharm": {
     "name": "#%% md\n"
    }
   }
  },
  {
   "cell_type": "code",
   "execution_count": null,
   "outputs": [],
   "source": [
    "def conv2d(\n",
    "  x,\n",
    "  numfilt,\n",
    "  filtsz,\n",
    "  strides=1,\n",
    "  pad='same',\n",
    "  act=True,\n",
    "  name=None,\n",
    "  norm=True,\n",
    "):\n",
    "  x = Conv2D(\n",
    "    numfilt,\n",
    "    filtsz,\n",
    "    strides,\n",
    "    padding=pad,\n",
    "    data_format='channels_last',\n",
    "    use_bias=False,\n",
    "    name=name+'conv2d'\n",
    "  )(x)\n",
    "  if norm:\n",
    "    x = BatchNormalization(\n",
    "      axis=3,\n",
    "      scale=False,\n",
    "      name=name+'conv2d'+'bn'\n",
    "    )(x)\n",
    "  if act:\n",
    "    x = Activation(\n",
    "      'relu',\n",
    "      name=name+'conv2d'+'act'\n",
    "    )(x)\n",
    "  return x"
   ],
   "metadata": {
    "collapsed": false,
    "pycharm": {
     "name": "#%%\n"
    }
   }
  },
  {
   "cell_type": "code",
   "execution_count": null,
   "outputs": [],
   "source": [
    "def incresA(x,scale,name=None):\n",
    "  pad = 'same'\n",
    "  branch0 = conv2d(x,32,1,1,pad,True,name=name+'b0')\n",
    "  branch1 = conv2d(x,32,1,1,pad,True,name=name+'b1_1')\n",
    "  branch1 = conv2d(branch1,32,3,1,pad,True,name=name+'b1_2')\n",
    "  branch2 = conv2d(x,32,1,1,pad,True,name=name+'b2_1')\n",
    "  branch2 = conv2d(branch2,48,3,1,pad,True,name=name+'b2_2')\n",
    "  branch2 = conv2d(branch2,64,3,1,pad,True,name=name+'b2_3')\n",
    "  branches = [branch0,branch1,branch2]\n",
    "  mixed = Concatenate(axis=3, name=name + '_concat')(branches)\n",
    "  filt_exp_1x1 = conv2d(mixed,384,1,1,pad,False,name=name+'filt_exp_1x1')\n",
    "  final_lay = Lambda(lambda inputs, scale: inputs[0] + inputs[1] * scale,\n",
    "                    output_shape=backend.int_shape(x)[1:],\n",
    "                    arguments={'scale': scale},\n",
    "                    name=name+'act_scaling')([x, filt_exp_1x1])\n",
    "  return final_lay"
   ],
   "metadata": {
    "collapsed": false,
    "pycharm": {
     "name": "#%%\n"
    }
   }
  },
  {
   "cell_type": "code",
   "execution_count": null,
   "outputs": [],
   "source": [
    "def incresB(x,scale,name=None):\n",
    "  pad = 'same'\n",
    "  branch0 = conv2d(x,192,1,1,pad,True,name=name+'b0')\n",
    "  branch1 = conv2d(x,128,1,1,pad,True,name=name+'b1_1')\n",
    "  branch1 = conv2d(branch1,160,[1,7],1,pad,True,name=name+'b1_2')\n",
    "  branch1 = conv2d(branch1,192,[7,1],1,pad,True,name=name+'b1_3')\n",
    "  branches = [branch0,branch1]\n",
    "  mixed = Concatenate(axis=3, name=name + '_mixed')(branches)\n",
    "  filt_exp_1x1 = conv2d(mixed,1152,1,1,pad,False,name=name+'filt_exp_1x1')\n",
    "  final_lay = Lambda(lambda inputs, scale: inputs[0] + inputs[1] * scale,\n",
    "                    output_shape=backend.int_shape(x)[1:],\n",
    "                    arguments={'scale': scale},\n",
    "                    name=name+'act_scaling')([x, filt_exp_1x1])\n",
    "  return final_lay"
   ],
   "metadata": {
    "collapsed": false,
    "pycharm": {
     "name": "#%%\n"
    }
   }
  },
  {
   "cell_type": "code",
   "execution_count": null,
   "outputs": [],
   "source": [
    "def incresC(x,scale,name=None):\n",
    "  pad = 'same'\n",
    "  branch0 = conv2d(x,192,1,1,pad,True,name=name+'b0')\n",
    "  branch1 = conv2d(x,192,1,1,pad,True,name=name+'b1_1')\n",
    "  branch1 = conv2d(branch1,224,[1,3],1,pad,True,name=name+'b1_2')\n",
    "  branch1 = conv2d(branch1,256,[3,1],1,pad,True,name=name+'b1_3')\n",
    "  branches = [branch0,branch1]\n",
    "  mixed = Concatenate(axis=3, name=name + '_mixed')(branches)\n",
    "  filt_exp_1x1 = conv2d(mixed,2048,1,1,pad,False,name=name+'fin1x1')\n",
    "  final_lay = Lambda(lambda inputs, scale: inputs[0] + inputs[1] * scale,\n",
    "                    output_shape=backend.int_shape(x)[1:],\n",
    "                    arguments={'scale': scale},\n",
    "                    name=name+'act_saling')([x, filt_exp_1x1])\n",
    "  return final_lay"
   ],
   "metadata": {
    "collapsed": false,
    "pycharm": {
     "name": "#%%\n"
    }
   }
  },
  {
   "cell_type": "code",
   "execution_count": null,
   "outputs": [],
   "source": [
    "def FaceNet(input_shape, num_classes):\n",
    "\n",
    "  inputs = Input(input_shape)\n",
    "\n",
    "  x = conv2d(inputs,32,3,2,'valid',True,name='conv1')\n",
    "  x = conv2d(x,32,3,1,'valid',True,name='conv2')\n",
    "  x = conv2d(x,64,3,1,'valid',True,name='conv3')\n",
    "\n",
    "  x_11 = MaxPooling2D(3,strides=1,padding='valid',name='stem_br_11'+'_maxpool_1')(x)\n",
    "  x_12 = conv2d(x,64,3,1,'valid',True,name='stem_br_12')\n",
    "\n",
    "  x = Concatenate(axis=3, name = 'stem_concat_1')([x_11,x_12])\n",
    "\n",
    "  x_21 = conv2d(x,64,1,1,'same',True,name='stem_br_211')\n",
    "  x_21 = conv2d(x_21,64,[1,7],1,'same',True,name='stem_br_212')\n",
    "  x_21 = conv2d(x_21,64,[7,1],1,'same',True,name='stem_br_213')\n",
    "  x_21 = conv2d(x_21,96,3,1,'valid',True,name='stem_br_214')\n",
    "\n",
    "  x_22 = conv2d(x,64,1,1,'same',True,name='stem_br_221')\n",
    "  x_22 = conv2d(x_22,96,3,1,'valid',True,name='stem_br_222')\n",
    "\n",
    "  x = Concatenate(axis=3, name = 'stem_concat_2')([x_21,x_22])\n",
    "\n",
    "  x_31 = conv2d(x,192,3,1,'valid',True,name='stem_br_31')\n",
    "  x_32 = MaxPooling2D(3,strides=1,padding='valid',name='stem_br_32'+'_maxpool_2')(x)\n",
    "  x = Concatenate(axis=3, name = 'stem_concat_3')([x_31,x_32])\n",
    "\n",
    "  #Inception-ResNet-A modules\n",
    "  x = incresA(x,0.15,name='incresA_1')\n",
    "  x = incresA(x,0.15,name='incresA_2')\n",
    "  x = incresA(x,0.15,name='incresA_3')\n",
    "  x = incresA(x,0.15,name='incresA_4')\n",
    "\n",
    "  #35 × 35 to 17 × 17 reduction module.\n",
    "  x_red_11 = MaxPooling2D(3,strides=2,padding='valid',name='red_maxpool_1')(x)\n",
    "\n",
    "  x_red_12 = conv2d(x,384,3,2,'valid',True,name='x_red1_c1')\n",
    "\n",
    "  x_red_13 = conv2d(x,256,1,1,'same',True,name='x_red1_c2_1')\n",
    "  x_red_13 = conv2d(x_red_13,256,3,1,'same',True,name='x_red1_c2_2')\n",
    "  x_red_13 = conv2d(x_red_13,384,3,2,'valid',True,name='x_red1_c2_3')\n",
    "\n",
    "  x = Concatenate(axis=3, name='red_concat_1')([x_red_11,x_red_12,x_red_13])\n",
    "\n",
    "  #Inception-ResNet-B modules\n",
    "  x = incresB(x,0.1,name='incresB_1')\n",
    "  x = incresB(x,0.1,name='incresB_2')\n",
    "  x = incresB(x,0.1,name='incresB_3')\n",
    "  x = incresB(x,0.1,name='incresB_4')\n",
    "  x = incresB(x,0.1,name='incresB_5')\n",
    "  x = incresB(x,0.1,name='incresB_6')\n",
    "  x = incresB(x,0.1,name='incresB_7')\n",
    "\n",
    "  #17 × 17 to 8 × 8 reduction module.\n",
    "  x_red_21 = MaxPooling2D(3,strides=2,padding='valid',name='red_maxpool_2')(x)\n",
    "\n",
    "  x_red_22 = conv2d(x,256,1,1,'same',True,name='x_red2_c11')\n",
    "  x_red_22 = conv2d(x_red_22,384,3,2,'valid',True,name='x_red2_c12')\n",
    "\n",
    "  x_red_23 = conv2d(x,256,1,1,'same',True,name='x_red2_c21')\n",
    "  x_red_23 = conv2d(x_red_23,256,3,2,'valid',True,name='x_red2_c22')\n",
    "\n",
    "  x_red_24 = conv2d(x,256,1,1,'same',True,name='x_red2_c31')\n",
    "  x_red_24 = conv2d(x_red_24,256,3,1,'same',True,name='x_red2_c32')\n",
    "  x_red_24 = conv2d(x_red_24,256,3,2,'valid',True,name='x_red2_c33')\n",
    "\n",
    "  x = Concatenate(axis=3, name='red_concat_2')([x_red_21,x_red_22,x_red_23,x_red_24])\n",
    "\n",
    "  #Inception-ResNet-C modules\n",
    "  x = incresC(x,0.2,name='incresC_1')\n",
    "  x = incresC(x,0.2,name='incresC_2')\n",
    "  x = incresC(x,0.2,name='incresC_3')\n",
    "\n",
    "  #TOP\n",
    "  x = GlobalAveragePooling2D(data_format='channels_last')(x)\n",
    "  x = Dropout(0.6)(x)\n",
    "  outputs = Dense(num_classes, activation='softmax')(x)\n",
    "\n",
    "  model = Model(inputs=inputs, outputs=outputs, name=model_type)\n",
    "  return model"
   ],
   "metadata": {
    "collapsed": false,
    "pycharm": {
     "name": "#%%\n"
    }
   }
  },
  {
   "cell_type": "markdown",
   "source": [
    "## Model Summary"
   ],
   "metadata": {
    "collapsed": false,
    "pycharm": {
     "name": "#%% md\n"
    }
   }
  },
  {
   "cell_type": "code",
   "execution_count": null,
   "outputs": [],
   "source": [
    "model = FaceNet(\n",
    "  input_shape=(HEIGHT, WIDTH, CHANNELS),\n",
    "  num_classes=CLASSES\n",
    ")\n",
    "\n",
    "model.compile(\n",
    "  loss='categorical_crossentropy',\n",
    "  optimizer=OPTIMIZER,\n",
    "  metrics=['accuracy']\n",
    ")"
   ],
   "metadata": {
    "collapsed": false,
    "pycharm": {
     "name": "#%%\n"
    }
   }
  },
  {
   "cell_type": "code",
   "metadata": {
    "id": "d5VVbTaJYUcc",
    "colab": {
     "base_uri": "https://localhost:8080/"
    },
    "outputId": "a904a061-dc76-4e94-b93b-8cc9c181f42b",
    "pycharm": {
     "name": "#%%\n"
    }
   },
   "source": [
    "train_loss, train_acc = model.evaluate(train_set)\n",
    "test_loss, test_acc = model.evaluate(test_set)\n",
    "print(\"final train accuracy = {:.2f} , validation accuracy = {:.2f}\".format(train_acc*100, test_acc*100))"
   ],
   "execution_count": 15,
   "outputs": [
    {
     "output_type": "stream",
     "name": "stdout",
     "text": [
      "449/449 [==============================] - 24s 54ms/step - loss: 0.9585 - accuracy: 0.6401\n",
      "113/113 [==============================] - 5s 47ms/step - loss: 1.0362 - accuracy: 0.6057\n",
      "final train accuracy = 64.01 , validation accuracy = 60.57\n"
     ]
    }
   ]
  },
  {
   "cell_type": "code",
   "metadata": {
    "id": "TTAkVcSX6NZU",
    "pycharm": {
     "name": "#%%\n"
    }
   },
   "source": [
    "model.save_weights(\"{}_best.h5\".format(model_type))"
   ],
   "execution_count": 16,
   "outputs": []
  },
  {
   "cell_type": "code",
   "metadata": {
    "id": "n-cqhTyH7kpc",
    "colab": {
     "base_uri": "https://localhost:8080/",
     "height": 350
    },
    "outputId": "1d52d308-4568-40d6-ab61-3022d0209d81",
    "pycharm": {
     "name": "#%%\n"
    }
   },
   "source": [
    "plt.figure(figsize=(14,5))\n",
    "\n",
    "plt.subplot(1,2,1)\n",
    "plt.plot(history.history['accuracy'])\n",
    "plt.plot(history.history['val_accuracy'])\n",
    "plt.title('Model Accuracy')\n",
    "plt.xlabel('Epochs')\n",
    "plt.ylabel('Accuracy')\n",
    "plt.legend(['train', 'test'], loc='upper left')\n",
    "\n",
    "plt.subplot(1,2,2)\n",
    "plt.plot(history.history['loss'])\n",
    "plt.plot(history.history['val_loss'])\n",
    "plt.title('Model Loss')\n",
    "plt.xlabel('Epochs')\n",
    "plt.ylabel('Loss')\n",
    "plt.legend(['train', 'test'], loc='upper right')\n",
    "\n",
    "plt.show()"
   ],
   "execution_count": 17,
   "outputs": [
    {
     "output_type": "display_data",
     "data": {
      "text/plain": [
       "<Figure size 1008x360 with 2 Axes>"
      ],
      "image/png": "[encoded data removed]"
     },
     "metadata": {
      "needs_background": "light"
     }
    }
   ]
  }
 ]
}